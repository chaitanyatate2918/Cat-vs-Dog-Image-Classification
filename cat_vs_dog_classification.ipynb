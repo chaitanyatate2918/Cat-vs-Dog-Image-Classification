{
  "nbformat": 4,
  "nbformat_minor": 0,
  "metadata": {
    "colab": {
      "provenance": []
    },
    "kernelspec": {
      "name": "python3",
      "display_name": "Python 3"
    },
    "language_info": {
      "name": "python"
    }
  },
  "cells": [
    {
      "cell_type": "markdown",
      "source": [
        "Cat vs Dog Classification Project"
      ],
      "metadata": {
        "id": "XUL092eZZKmz"
      }
    },
    {
      "cell_type": "code",
      "source": [
        "# Dataset - https://www.kaggle.com/datasets/salader/dogs-vs-cats"
      ],
      "metadata": {
        "id": "WPrYuq3nY7zc"
      },
      "execution_count": null,
      "outputs": []
    },
    {
      "cell_type": "code",
      "source": [
        "!mkdir -p ~/.kaggle\n",
        "!cp kaggle.json ~/.kaggle/"
      ],
      "metadata": {
        "id": "fpyZzGViZdML"
      },
      "execution_count": null,
      "outputs": []
    },
    {
      "cell_type": "code",
      "source": [
        "!kaggle datasets download -d salader/dogs-vs-cats"
      ],
      "metadata": {
        "colab": {
          "base_uri": "https://localhost:8080/"
        },
        "id": "K6PgbzO_a2fH",
        "outputId": "fd5ff140-ab1f-4b00-d836-1ee99a1c0411"
      },
      "execution_count": null,
      "outputs": [
        {
          "output_type": "stream",
          "name": "stdout",
          "text": [
            "Warning: Your Kaggle API key is readable by other users on this system! To fix this, you can run 'chmod 600 /root/.kaggle/kaggle.json'\n",
            "Downloading dogs-vs-cats.zip to /content\n",
            " 98% 1.05G/1.06G [00:10<00:00, 120MB/s]\n",
            "100% 1.06G/1.06G [00:10<00:00, 106MB/s]\n"
          ]
        }
      ]
    },
    {
      "cell_type": "code",
      "source": [
        "!chmod 600 /root/.kaggle/kaggle.json"
      ],
      "metadata": {
        "id": "gbq2O5V-a_AN"
      },
      "execution_count": null,
      "outputs": []
    },
    {
      "cell_type": "code",
      "source": [
        "# Unzip the file\n",
        "import zipfile\n",
        "zip_ref = zipfile.ZipFile('/content/dogs-vs-cats.zip', 'r')\n",
        "zip_ref.extractall('/content')\n",
        "zip_ref.close()"
      ],
      "metadata": {
        "id": "3jQgwpWjcPmE"
      },
      "execution_count": null,
      "outputs": []
    },
    {
      "cell_type": "code",
      "source": [
        "# Import required libraries\n",
        "import tensorflow as tf\n",
        "from tensorflow import keras\n",
        "from keras.models import Sequential\n",
        "from keras.layers import Conv2D, MaxPool2D, Flatten, Dense"
      ],
      "metadata": {
        "id": "oyx12lr2cabl"
      },
      "execution_count": null,
      "outputs": []
    },
    {
      "cell_type": "code",
      "source": [
        "# Generators (Divides data into batches)\n",
        "# The general use case of using the image_dataset_from_directory is to load the multiple images from the directory and prepare them for training by resizing them to a fixed size. However, when the original size is provided to the function, the image should not be altered.\n",
        "\n",
        "train_ds = keras.utils.image_dataset_from_directory(\n",
        "    directory = '/content/train',\n",
        "    labels = 'inferred',\n",
        "    label_mode = 'int',\n",
        "    batch_size = 32,\n",
        "    image_size = (256,256)\n",
        "\n",
        ")\n",
        "\n",
        "validation_ds = keras.utils.image_dataset_from_directory(\n",
        "    directory = '/content/test',\n",
        "    labels = 'inferred',\n",
        "    label_mode = 'int',\n",
        "    batch_size = 32,\n",
        "    image_size = (256,256)\n",
        ")\n"
      ],
      "metadata": {
        "colab": {
          "base_uri": "https://localhost:8080/"
        },
        "id": "WVyw1vDthQ_m",
        "outputId": "3a5867b1-71ee-4026-c338-3beff668d1e2"
      },
      "execution_count": null,
      "outputs": [
        {
          "output_type": "stream",
          "name": "stdout",
          "text": [
            "Found 20000 files belonging to 2 classes.\n",
            "Found 5000 files belonging to 2 classes.\n"
          ]
        }
      ]
    },
    {
      "cell_type": "code",
      "source": [
        "# Normalize to 0-1\n",
        "\n",
        "def process(image, label):\n",
        "  image = tf.cast(image/255, dtype=tf.float32)\n",
        "  return image, label\n",
        "\n",
        "train_ds = train_ds.map(process)\n",
        "validation_ds = validation_ds.map(process)"
      ],
      "metadata": {
        "id": "AwRr6rS8nxFf"
      },
      "execution_count": null,
      "outputs": []
    },
    {
      "cell_type": "code",
      "source": [
        "# Create a CNN model\n",
        "# 3Conv layers (filters = (32,64,128))\n",
        "\n",
        "model = Sequential()\n",
        "\n",
        "# 1st Conv layer\n",
        "model.add(Conv2D(filters=32, kernel_size=(3,3), padding='valid', activation='relu', input_shape=(256, 256, 3)))\n",
        "model.add(MaxPool2D(pool_size=(2,2), strides=2, padding='valid'))\n",
        "\n",
        "# 2nd Conv layer\n",
        "model.add(Conv2D(filters=64, kernel_size=(3,3), padding='valid', activation='relu'))\n",
        "model.add(MaxPool2D(pool_size=(2,2), strides=2, padding='valid'))\n",
        "\n",
        "# 3rd Conv layer\n",
        "model.add(Conv2D(filters=128, kernel_size=(3,3), padding='valid', activation='relu'))\n",
        "model.add(MaxPool2D(pool_size=(2,2), strides=2, padding='valid'))\n",
        "\n",
        "# Add Flatten layer\n",
        "model.add(Flatten())\n",
        "\n",
        "\n",
        "# Add Fully connected layer\n",
        "model.add(Dense(units=128, activation='relu'))\n",
        "model.add(Dense(units=64, activation='relu'))\n",
        "model.add(Dense(units=1, activation='sigmoid'))\n"
      ],
      "metadata": {
        "id": "baNd20Ktp9Ax"
      },
      "execution_count": null,
      "outputs": []
    },
    {
      "cell_type": "code",
      "source": [
        "model.summary()"
      ],
      "metadata": {
        "colab": {
          "base_uri": "https://localhost:8080/"
        },
        "id": "4_BgrRj2tgmy",
        "outputId": "39bfc260-4b7e-4777-d97e-7c0b894021d5"
      },
      "execution_count": null,
      "outputs": [
        {
          "output_type": "stream",
          "name": "stdout",
          "text": [
            "Model: \"sequential\"\n",
            "_________________________________________________________________\n",
            " Layer (type)                Output Shape              Param #   \n",
            "=================================================================\n",
            " conv2d (Conv2D)             (None, 254, 254, 32)      896       \n",
            "                                                                 \n",
            " max_pooling2d (MaxPooling2  (None, 127, 127, 32)      0         \n",
            " D)                                                              \n",
            "                                                                 \n",
            " conv2d_1 (Conv2D)           (None, 125, 125, 64)      18496     \n",
            "                                                                 \n",
            " max_pooling2d_1 (MaxPoolin  (None, 62, 62, 64)        0         \n",
            " g2D)                                                            \n",
            "                                                                 \n",
            " conv2d_2 (Conv2D)           (None, 60, 60, 128)       73856     \n",
            "                                                                 \n",
            " max_pooling2d_2 (MaxPoolin  (None, 30, 30, 128)       0         \n",
            " g2D)                                                            \n",
            "                                                                 \n",
            " flatten (Flatten)           (None, 115200)            0         \n",
            "                                                                 \n",
            " dense (Dense)               (None, 128)               14745728  \n",
            "                                                                 \n",
            " dense_1 (Dense)             (None, 64)                8256      \n",
            "                                                                 \n",
            " dense_2 (Dense)             (None, 1)                 65        \n",
            "                                                                 \n",
            "=================================================================\n",
            "Total params: 14847297 (56.64 MB)\n",
            "Trainable params: 14847297 (56.64 MB)\n",
            "Non-trainable params: 0 (0.00 Byte)\n",
            "_________________________________________________________________\n"
          ]
        }
      ]
    },
    {
      "cell_type": "code",
      "source": [
        "model.compile(optimizer='adam',loss='binary_crossentropy',metrics=['accuracy'])"
      ],
      "metadata": {
        "id": "3yll-QwztjlP"
      },
      "execution_count": null,
      "outputs": []
    },
    {
      "cell_type": "code",
      "source": [
        "history = model.fit(train_ds, epochs=10, validation_data=validation_ds)"
      ],
      "metadata": {
        "colab": {
          "base_uri": "https://localhost:8080/"
        },
        "id": "nADguMhTuiAf",
        "outputId": "3e094447-4961-4d5d-8176-053cf5586ae1"
      },
      "execution_count": null,
      "outputs": [
        {
          "output_type": "stream",
          "name": "stdout",
          "text": [
            "Epoch 1/10\n",
            "625/625 [==============================] - 62s 85ms/step - loss: 0.6360 - accuracy: 0.6323 - val_loss: 0.5612 - val_accuracy: 0.7048\n",
            "Epoch 2/10\n",
            "625/625 [==============================] - 52s 82ms/step - loss: 0.4951 - accuracy: 0.7589 - val_loss: 0.4500 - val_accuracy: 0.7924\n",
            "Epoch 3/10\n",
            "625/625 [==============================] - 52s 83ms/step - loss: 0.3958 - accuracy: 0.8175 - val_loss: 0.4554 - val_accuracy: 0.8024\n",
            "Epoch 4/10\n",
            "625/625 [==============================] - 50s 80ms/step - loss: 0.2744 - accuracy: 0.8838 - val_loss: 0.5404 - val_accuracy: 0.7922\n",
            "Epoch 5/10\n",
            "625/625 [==============================] - 52s 82ms/step - loss: 0.1636 - accuracy: 0.9345 - val_loss: 0.7189 - val_accuracy: 0.7718\n",
            "Epoch 6/10\n",
            "625/625 [==============================] - 50s 79ms/step - loss: 0.0998 - accuracy: 0.9629 - val_loss: 1.0675 - val_accuracy: 0.7658\n",
            "Epoch 7/10\n",
            "625/625 [==============================] - 49s 78ms/step - loss: 0.0691 - accuracy: 0.9750 - val_loss: 1.0150 - val_accuracy: 0.7774\n",
            "Epoch 8/10\n",
            "625/625 [==============================] - 50s 79ms/step - loss: 0.0515 - accuracy: 0.9821 - val_loss: 1.3485 - val_accuracy: 0.7638\n",
            "Epoch 9/10\n",
            "625/625 [==============================] - 50s 79ms/step - loss: 0.0468 - accuracy: 0.9844 - val_loss: 1.2312 - val_accuracy: 0.7736\n",
            "Epoch 10/10\n",
            "625/625 [==============================] - 53s 84ms/step - loss: 0.0388 - accuracy: 0.9879 - val_loss: 1.2452 - val_accuracy: 0.7698\n"
          ]
        }
      ]
    },
    {
      "cell_type": "code",
      "source": [
        "history.history.keys()"
      ],
      "metadata": {
        "colab": {
          "base_uri": "https://localhost:8080/"
        },
        "id": "yvqxkG7rvIbW",
        "outputId": "084f3a65-4885-4bdd-f77e-d81e66706060"
      },
      "execution_count": null,
      "outputs": [
        {
          "output_type": "execute_result",
          "data": {
            "text/plain": [
              "dict_keys(['loss', 'accuracy', 'val_loss', 'val_accuracy'])"
            ]
          },
          "metadata": {},
          "execution_count": 21
        }
      ]
    },
    {
      "cell_type": "code",
      "source": [
        "import matplotlib.pyplot as plt"
      ],
      "metadata": {
        "id": "41sxlYBzyiD0"
      },
      "execution_count": null,
      "outputs": []
    },
    {
      "cell_type": "code",
      "source": [
        "plt.plot(history.history['accuracy'], color='red', label='train')\n",
        "plt.plot(history.history['val_accuracy'], color='blue', label='validation')\n",
        "plt.legend()\n",
        "plt.show()"
      ],
      "metadata": {
        "colab": {
          "base_uri": "https://localhost:8080/",
          "height": 430
        },
        "id": "DGFL8lpOy_IM",
        "outputId": "072011a0-c2e7-490f-b444-c3fc6ac2fb97"
      },
      "execution_count": null,
      "outputs": [
        {
          "output_type": "display_data",
          "data": {
            "text/plain": [
              "<Figure size 640x480 with 1 Axes>"
            ],
            "image/png": "[encoded data removed]"
          },
          "metadata": {}
        }
      ]
    },
    {
      "cell_type": "code",
      "source": [
        "plt.plot(history.history['loss'], color='red', label='train')\n",
        "plt.plot(history.history['val_loss'], color='blue', label='validation')\n",
        "plt.legend()\n",
        "plt.show()"
      ],
      "metadata": {
        "colab": {
          "base_uri": "https://localhost:8080/",
          "height": 432
        },
        "id": "eo14G6nXzQUG",
        "outputId": "3a04f6b7-f63d-4917-f977-2bce78f8db8d"
      },
      "execution_count": null,
      "outputs": [
        {
          "output_type": "display_data",
          "data": {
            "text/plain": [
              "<Figure size 640x480 with 1 Axes>"
            ],
            "image/png": "[encoded data removed]"
          },
          "metadata": {}
        }
      ]
    },
    {
      "cell_type": "code",
      "source": [],
      "metadata": {
        "id": "OpwHL55Rzx3Z"
      },
      "execution_count": null,
      "outputs": []
    }
  ]
}